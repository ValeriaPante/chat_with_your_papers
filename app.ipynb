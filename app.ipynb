{
 "cells": [
  {
   "cell_type": "markdown",
   "metadata": {},
   "source": [
    "# Indexing new documents"
   ]
  },
  {
   "cell_type": "markdown",
   "metadata": {},
   "source": [
    "In order to index new papers you need to first upload the relative pdf file in *data/papers* folder, renaming the file with the official arXiv identifier."
   ]
  },
  {
   "cell_type": "code",
   "execution_count": null,
   "metadata": {},
   "outputs": [],
   "source": [
    "from backend.index_uploader import add_document\n",
    "\n",
    "add_document('2310.09884v1', \n",
    "             'Unmasking the Web of Deceit: Uncovering Coordinated Activity to Expose Information Operations on Twitter', \n",
    "             'LUCA LUCERI, VALERIA PANTÈ, KEITH BURGHARDT, EMILIO FERRARA', \n",
    "             2023,\n",
    "             'Fig. ')\n",
    "\n",
    "add_document('2405.05275v1', \n",
    "             'SoMeR: Multi-View User Representation Learning for Social Media', \n",
    "             'Siyi Guo, Keith Burghardt, Valeria Pantè, Kristina Lerman', \n",
    "             2023,\n",
    "             'Figure ')"
   ]
  },
  {
   "cell_type": "markdown",
   "metadata": {},
   "source": [
    "# Chat with your paper"
   ]
  },
  {
   "cell_type": "markdown",
   "metadata": {},
   "source": [
    "First, set you LLM API key. In this case I use Google Gemini."
   ]
  },
  {
   "cell_type": "code",
   "execution_count": 1,
   "metadata": {},
   "outputs": [],
   "source": [
    "import os\n",
    "\n",
    "os.environ[\"GOOGLE_API_KEY\"] = ''# insert your key here"
   ]
  },
  {
   "cell_type": "code",
   "execution_count": 2,
   "metadata": {},
   "outputs": [
    {
     "name": "stderr",
     "output_type": "stream",
     "text": [
      "c:\\Users\\valer\\Desktop\\RAG\\venvv\\Lib\\site-packages\\tqdm\\auto.py:21: TqdmWarning: IProgress not found. Please update jupyter and ipywidgets. See https://ipywidgets.readthedocs.io/en/stable/user_install.html\n",
      "  from .autonotebook import tqdm as notebook_tqdm\n"
     ]
    },
    {
     "name": "stdout",
     "output_type": "stream",
     "text": [
      "The paper titled \"Unmasking the Web of Deceit: Uncovering Coordinated Activity to Expose Information Operations on Twitter\" by Luca Luceri, Valeria Pantè, Keith Burghardt, and Emilio Ferrara explains how text similarity networks are constructed. The paper was published in 2023 and is available on arXiv.\n"
     ]
    }
   ],
   "source": [
    "from backend.info_retriever import query\n",
    "\n",
    "query(\"Which paper explains how text similarity networks are constructed?\")"
   ]
  }
 ],
 "metadata": {
  "kernelspec": {
   "display_name": "Python 3",
   "language": "python",
   "name": "python3"
  },
  "language_info": {
   "codemirror_mode": {
    "name": "ipython",
    "version": 3
   },
   "file_extension": ".py",
   "mimetype": "text/x-python",
   "name": "python",
   "nbconvert_exporter": "python",
   "pygments_lexer": "ipython3",
   "version": "3.12.4"
  }
 },
 "nbformat": 4,
 "nbformat_minor": 2
}
